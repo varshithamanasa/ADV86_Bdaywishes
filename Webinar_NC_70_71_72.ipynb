{
  "nbformat": 4,
  "nbformat_minor": 0,
  "metadata": {
    "colab": {
      "name": "Webinar_NC_70_71_72",
      "provenance": [],
      "collapsed_sections": [],
      "include_colab_link": true
    },
    "kernelspec": {
      "name": "python3",
      "display_name": "Python 3"
    },
    "language_info": {
      "name": "python"
    }
  },
  "cells": [
    {
      "cell_type": "markdown",
      "metadata": {
        "id": "view-in-github",
        "colab_type": "text"
      },
      "source": [
        "<a href=\"https://colab.research.google.com/github/varshithamanasa/ADV86_Bdaywishes/blob/master/Webinar_NC_70_71_72.ipynb\" target=\"_parent\"><img src=\"https://colab.research.google.com/assets/colab-badge.svg\" alt=\"Open In Colab\"/></a>"
      ]
    },
    {
      "cell_type": "markdown",
      "metadata": {
        "id": "0Z7PqdeHdJol"
      },
      "source": [
        "# Lesson 70: Algorithms Introduction\n"
      ]
    },
    {
      "cell_type": "code",
      "source": [
        ""
      ],
      "metadata": {
        "id": "C7UkjItyyHqt"
      },
      "execution_count": null,
      "outputs": []
    },
    {
      "cell_type": "markdown",
      "metadata": {
        "id": "MicnOrfVdRHm"
      },
      "source": [
        "### Teacher-Student Tasks\n",
        "\n",
        "In this class, we will walk through the structure of important algorithms and the types of algorithms implemented using Python. \n",
        "\n",
        "**Note:** This lesson is completely theoretical and we will not perform any coding in this lesson.\n",
        "\n",
        "\n",
        "\n",
        "\n"
      ]
    },
    {
      "cell_type": "markdown",
      "metadata": {
        "id": "yzqqcMBrYGvc"
      },
      "source": [
        "---"
      ]
    },
    {
      "cell_type": "markdown",
      "metadata": {
        "id": "GBwg_DGFf_4f"
      },
      "source": [
        "#### Structure of Algorithms\n",
        "\n",
        "**Algorithms are a set of instructions that are executed to get the solution to a given problem.**\n",
        "\n",
        "* Since algorithms are not language-specific, they can be implemented in several programming languages. \n",
        "* No standard rules guide the writing of algorithms. Algorithms are generally created independent of underlying languages, i.e. an algorithm can be implemented in more than one programming language.\n",
        "*They are resource and problem-dependent but share some common code constructs, such as flow-control (if-else) and loops (do, while, for). \n"
      ]
    },
    {
      "cell_type": "markdown",
      "metadata": {
        "id": "S-A3-JNpgdZP"
      },
      "source": [
        "**Characteristics of an Algorithm:**\n",
        "\n",
        "Not all procedures can be called an algorithm. An algorithm should have the following characteristics:\n",
        "\n",
        "**1. Unambiguous** − The algorithm should be unambiguous. Each of its steps (or phases), and their inputs/outputs should be clear and must lead to only one meaning.\n",
        "\n",
        "**2. Input** − An algorithm should have 0 or more well-defined inputs.\n",
        "\n",
        "**3. Output** − An algorithm should have 1 or more well-defined outputs and should match the desired output.\n",
        "\n",
        "**4. Finiteness** − Algorithms must terminate after a finite number of steps.\n",
        "\n",
        "**5. Feasibility**− Should be feasible with the available resources.\n",
        "\n",
        "**6. Independent** − An algorithm should have step-by-step directions, which should be independent of any programming code.\n",
        "\n",
        "**How to Write an Algorithm?**\n",
        "\n",
        "\n",
        "There are no well-defined standards for writing algorithms. Rather, it is problem and resource-dependent. Algorithms are never written to support a particular programming code.\n",
        "\n",
        "As we know that all programming languages share basic code constructs like loops (do, for, while), flow-control (if-else), etc. These common constructs can be used to write an algorithm.\n",
        "\n",
        "We write algorithms in a step-by-step manner, but it is not always the case. Algorithm writing is a process and is executed after the problem domain is well-defined. Therefore, we should know the problem domain, for which we are designing a solution.\n",
        "\n",
        "**Example:**\n",
        "\n",
        "Let's try to learn algorithm-writing by using an example.\n",
        "\n",
        "Problem - Design an algorithm to add two numbers and display the result.\n",
        "\n",
        "The algorithm is as follows -\n",
        "\n",
        "```\n",
        "Step 1 − START.\n",
        "\n",
        "Step 2 − Declare three integers a, b, and c.\n",
        "\n",
        "Step 3 − Define values of a and b.\n",
        "\n",
        "Step 4 − Add values of a and b.\n",
        "\n",
        "Step 5 − Store output of step 4 to c.\n",
        "\n",
        "Step 6 − Print c.\n",
        "\n",
        "Step 7 − STOP.\n",
        "\n",
        "```"
      ]
    },
    {
      "cell_type": "markdown",
      "metadata": {
        "id": "EIRKC6l0i_d-"
      },
      "source": [
        "Algorithms tell the programmers how to code the program. Alternatively, the algorithm can be written as:\n",
        "\n",
        "\n",
        "```\n",
        "Step 1 − START.\n",
        "\n",
        "Step 2 − Get values of a and b.\n",
        "\n",
        "Step 3 − c ← a + b.\n",
        "\n",
        "Step 4 − Display c.\n",
        "\n",
        "Step 5 − STOP.\n",
        "```\n",
        "In the design and analysis of algorithms, the **second method** is used to describe an algorithm. It makes it easy for the analyst to analyze the algorithm ignoring all unwanted definitions.\n"
      ]
    },
    {
      "cell_type": "markdown",
      "metadata": {
        "id": "AimsEA44oUVI"
      },
      "source": [
        "\n",
        "\n",
        "\n",
        "\n",
        "\n",
        "---\n",
        "\n"
      ]
    },
    {
      "cell_type": "markdown",
      "metadata": {
        "id": "NtuaTjJooRFy"
      },
      "source": [
        "#### Types of Algorithms\n",
        "\n",
        "Major categories of data structure algorithms are as follows:\n",
        "1. Sorting Algorithms\n",
        "2. Searching Algorithms\n",
        "3. String Algorithms\n",
        "4. Graph Algorithms\n",
        "\n",
        "We will briefly discuss these categories of algorithms and will explore them in more detail in the upcoming lessons.\n",
        "\n",
        "\n",
        "\n",
        "\n",
        "\n",
        "\n"
      ]
    },
    {
      "cell_type": "markdown",
      "metadata": {
        "id": "sIiO6mOfpizh"
      },
      "source": [
        "##### **1. Sorting Algorithm**\n",
        "\n",
        "\n",
        "The sorting algorithm is used to sort data in some given order. It is used to rearrange a given array or list elements according to a comparison operator on the elements. The comparison operator is used to decide the new order of the element in the respective data structure.\n",
        "\n",
        "These algorithms take an input list, processes it (i.e, perform some operations on it), and produce the sorted list.\n",
        "\n",
        "The most common example we experience every day is sorting clothes or other items on an e-commerce website either by lowest-price to highest, or list by popularity, or some other order.\n",
        "\n",
        "Following are the commonly used types of sorting algorithms:\n",
        "\n",
        "1. Bubble Sort\n",
        "2. Selection Sort\n",
        "3. Insertion Sort\n",
        "4. Merge Sort\n",
        "5. Quick Sort\n",
        "\n",
        "\n",
        "\n"
      ]
    },
    {
      "cell_type": "markdown",
      "metadata": {
        "id": "i4_Rtz_BrShg"
      },
      "source": [
        "##### **2. Searching Algorithms**\n",
        "\n",
        "\n",
        "Searching algorithms are used to seek for some elements present in a given dataset.\n",
        "\n",
        "Searching Algorithms are designed to check for an element or retrieve an element from any data structure where it is stored. Based on the type of search operation, these algorithms are generally classified into two categories:\n",
        "\n",
        "1. **Sequential Search**: In this, the list or array is traversed sequentially and every element is checked. For example: Linear Search.\n",
        "\n",
        "2. **Interval Search**: These algorithms are specifically designed for searching in sorted data structures. These types of searching algorithms are much more efficient than Sequential Search as they repeatedly target the center of the search structure and divide the search space in half. For Example: Binary Search.\n",
        "\n",
        "\n"
      ]
    },
    {
      "cell_type": "markdown",
      "metadata": {
        "id": "JaBZw5qm2Qn4"
      },
      "source": [
        "##### **3. String Algorithms**\n",
        "\n",
        "Strings are a sequence of characters and are used to store data. Similar to another data type, we need to perform certain operations on them. There are many string algorithms available that can be used to solve various string processing problems, particularly finding a given substring within a string, also known as **pattern matching**.\n",
        "\n",
        "**Pattern Matching:**\n",
        "\n",
        "- Pattern matching or string matching is used to search a string within another string.\n",
        "- The algorithm returns the index position where the pattern is matched in a given string. \n",
        "- Some of the commonly used pattern matching algorithms are:\n",
        "  1. Brute-force algorithm.\n",
        "  2. Rabin-Karp algorithm.\n",
        "  3. Knuth-Morris-Pratt (KMP) algorithm."
      ]
    },
    {
      "cell_type": "markdown",
      "metadata": {
        "id": "px16bt2Mu3TE"
      },
      "source": [
        "##### **4. Graph Algorithms**\n",
        "\n",
        "Graphs are used to solve many computing problems. Graph traversal is a process for exploring a graph by analyzing all of its vertices and edges.\n",
        "\n",
        "Graph traversal algorithms are useful in identifying the available paths to reach from one vertex to another in a graph and also help  identify the best path out of all available paths. Let us explore some of the important graph algorithms:\n",
        "\n",
        "\n",
        "1. **Depth-First Traversal (DFS)**: In this algorithm, a graph is traversed in a depthward motion. When any iteration faces a dead end, a stack is used to go to the next vertex and start a search. DFS is implemented in Python using the set data types.\n",
        "\n",
        "2. **Breadth-First Traversal (BFS)**: In this algorithm, a graph is traversed in a breadthward motion. When any iteration faces a dead end, a queue is used to go to the next vertex and start a search. BFS is implemented in Python using the queue data structure.\n",
        "\n",
        "\n",
        "\n",
        "\n"
      ]
    },
    {
      "cell_type": "markdown",
      "metadata": {
        "id": "tMGNhhInwWyH"
      },
      "source": [
        "\n",
        "\n",
        "---\n",
        "\n",
        "\n",
        "\n",
        "\n"
      ]
    },
    {
      "cell_type": "markdown",
      "metadata": {
        "id": "ucT00oEp6vLa"
      },
      "source": [
        "#### Analysis of Algorithms\n",
        "\n",
        "Given two algorithms for a task, how do we find out which one is better?\n",
        "\n",
        "One way of doing this is – implement both the algorithms and run the two programs on your computer for different inputs and see which one takes less time. There are many problems with this approach for the analysis of algorithms.\n",
        "1. It might be possible that for some inputs, the first algorithm performs better than the second. And for some inputs second performs better.\n",
        "2. It might also be possible that for some inputs, the first algorithm performs better on one machine and the second works better on other machines for some other inputs.\n",
        "\n",
        "**Asymptotic Analysis** \n",
        "- It is the best way to analyze the performance of algorithms.\n",
        "- In Asymptotic Analysis, we evaluate the performance of an algorithm in terms of input size (we don't measure the actual running time). We calculate, how the time (or space) taken by an algorithm increases with the input size.\n",
        "- For example, the running time of one operation is computed as $f(n)$, and maybe for another operation it is computed as $g(n^2)$. This means the first operation running time will increase linearly with the increase in $n$ and the running time of the second operation will increase exponentially when $n$ increases. Similarly, the running time of both operations will be nearly the same if $n$ is significantly small.\n",
        "\n",
        "Usually, the time required by an algorithm falls under three types:\n",
        "\n",
        "1. **Best Case** − Minimum time required for program execution.\n",
        "\n",
        "2. **Worst Case** − Maximum time required for program execution.\n",
        "\n",
        "3. **Average Case** − Average time required for program execution.\n",
        "\n",
        "\n",
        "\n",
        "\n",
        "Let us take an example of a Linear Search algorithm and analyze it using Asymptotic Analysis. We will learn this algorithm in more detail in the upcoming lesson.\n",
        "\n",
        "Consider the following implementation of Linear Search: "
      ]
    },
    {
      "cell_type": "code",
      "metadata": {
        "colab": {
          "base_uri": "https://localhost:8080/"
        },
        "id": "rYaa51Cv8Jij",
        "outputId": "ebafc60c-9439-47c5-c57b-13d77367da86"
      },
      "source": [
        "# Run the code cell\n",
        "# Python implementation of the approach\n",
        "\n",
        "# Linearly searching 'x' in 'arr[]'. If 'x' is present\n",
        "# then return the index, otherwise return '-1'\n",
        "\n",
        "def search(arr, x):\n",
        "    for index, value in enumerate(arr):\n",
        "        if value == x:\n",
        "            return index\n",
        "    return -1  \n",
        "  \n",
        "# Driver Code\n",
        "arr = [1, 10, 30, 15]\n",
        "x = 30\n",
        "print(x, \"is present at index\", search(arr, x))"
      ],
      "execution_count": null,
      "outputs": [
        {
          "output_type": "stream",
          "name": "stdout",
          "text": [
            "30 is present at index 2\n"
          ]
        }
      ]
    },
    {
      "cell_type": "markdown",
      "metadata": {
        "id": "3LFU3NEW-WQ0"
      },
      "source": [
        "**1. Best Case Analysis:**\n",
        " \n",
        "In the best possible case,\n",
        "\n",
        "- The element being searched may be found at the first position.\n",
        "- In this case, the search terminates in success with just one comparison.\n",
        "- Thus in the best case, a linear search algorithm takes $\\mathcal{O}(1)$ operations. Here, $\\mathcal{O}$ is nothing but the Big O notation which is used to represent time complexity.\n",
        "\n",
        "\n",
        "**2. Worst-Case Analysis:**\n",
        "\n",
        "In the worst possible case,\n",
        "- The element being searched may be present at the last position or not present in the array at all.\n",
        "- In the former case, the search terminates in success with n comparisons.\n",
        "- In the later case, the search terminates in failure with n comparisons.\n",
        "- Thus in the worst case, a linear search algorithm takes $\\mathcal{O}(n)$  operations.\n",
        "\n",
        "\n",
        "**3. Average Case Analysis:**\n",
        "\n",
        "- It is the average number of comparisons between a minimum number of comparisons and a maximum number of comparisons.\n",
        "- For Linear Search,\n",
        "  - Minimum number of comparisons = $1$\n",
        "  - Maximum number of comparisons = $n$\n",
        "\n",
        "  Therefore, average number of comparisons = $\\frac{(n + 1)}{2}$\n",
        "\n",
        "   As $\\frac{(n + 1)}{2}$ is a linear function of $n$, Thus, the average case efficiency will be expressed as $\\mathcal{O}(n)$.\n",
        "\n",
        "Thus, we have:\n",
        "\n",
        "  **Time Complexity of Linear Search Algorithm is $\\mathcal{O}(n)$**\n",
        "where $n$ is the number of elements in the linear array.\n",
        "\n",
        "In this way, we can determine which algorithm takes more time to run and which algorithm that take less time compared to the other one.\n"
      ]
    },
    {
      "cell_type": "markdown",
      "metadata": {
        "id": "thoU3mn4miu2"
      },
      "source": [
        "# Lesson 71 - Sorting algorithms I"
      ]
    },
    {
      "cell_type": "markdown",
      "metadata": {
        "id": "nLAfVfc14yFg"
      },
      "source": [
        "---"
      ]
    },
    {
      "cell_type": "markdown",
      "metadata": {
        "id": "uYm2YbBEMfpP"
      },
      "source": [
        "### Teacher-Student Tasks\n",
        "\n",
        "You are given a large amount of student database who have scored different marks in the exam. Your task is to give them their respective ranks.\n",
        "\n",
        "What will you do?\n",
        "\n",
        "Sorting will help in such a scenario. You can sort all the students with respect to their marks and give them their results. \n",
        "\n",
        "In this class, we will analyse $3$ sorting algorithms:\n",
        "\n",
        "1. Bubble sort\n",
        "2. Selection sort\n",
        "3. Insertion sort\n",
        "\n",
        "\n",
        "**Comparisons** are when two elements are compared to see which one is larger and which one is smaller. One is selected depending upon the requirement. \n",
        "\n",
        "**Swapping** is interchanging the locations of two elements. It can be done only after comparison. Hence, the number of swaps is always less than the comparison.\n",
        "\n",
        "Computing power and time are consumed when a **comparison** is made between two elements of an array. Similarly, power and time are consumed when two elements are **swapped** in an array. These two are the important factors for evaluating the performance of an algorithm. In this tutorial, we will be concentrating only on sorting methods that give $\\mathcal{O}(n^2)$ time complexity. Here, $n$ is number of inputs. To put this in simple words, one can say that number of swaps and comparisons in the worst case are nearly a factor of $n^2$.\n",
        "\n"
      ]
    },
    {
      "cell_type": "markdown",
      "metadata": {
        "id": "oEkXktr_Mhyp"
      },
      "source": [
        "---"
      ]
    },
    {
      "cell_type": "markdown",
      "metadata": {
        "id": "q-PLvOnCMjcR"
      },
      "source": [
        "#### Task 1: Bubble sort\n",
        "\n",
        "Bubble sort is the most basic algorithm for sorting. As the name suggests with each iteration the largest number pops up like a bubble in the water at its respective position in the sorted array. We swap corresponding positions starting from the initial index to the last. This results in the largest number being on the rightmost index. Repeat this for the $n-1$ pass and the array will be sorted. \n",
        "\n",
        "\n",
        "\n",
        "Let's, sort array=$[5, 3, 4, 2, 1]$ with the above algorithm.\n",
        "\n",
        "Every **Pass** is iterating over the array once.  \n",
        "\n",
        "**First Pass: The largest element gets positioned towards the right.**\n",
        "\n",
        "$[3, 5, 4, 2, 1]$\n",
        "\n",
        "$[3, 4, 5, 2, 1]$\n",
        "\n",
        "$[3, 4, 2, 5, 1]$\n",
        "\n",
        "$[3, 4, 2, 1, 5]$\n",
        "\n",
        "\n",
        "**Second Pass: The second largest element gets positioned towards the right.**\n",
        "\n",
        "$[3, 4, 2, 1, 5]$\n",
        "\n",
        "$[3, 2, 4, 1, 5]$\n",
        "\n",
        "$[3, 2, 1, 4, 5]$\n",
        "\n",
        "\n",
        "**Third Pass: The third-largest element gets positioned towards the right.**\n",
        "\n",
        "$[2, 3, 1, 4, 5]$\n",
        "\n",
        "$[2, 1, 3, 4, 5]$\n",
        "\n",
        "**Fourth Pass: The fourth-largest element gets positioned towards the right.**\n",
        "\n",
        "$[1, 2, 3, 4, 5]$\n",
        "\n",
        "We can observe that how after each iteration the largest unsorted number is set at its right position for the sorted array. \n",
        "\n",
        "<center><img src = 'https://i.imgur.com/4tRr0rQ.png' width = 800></center>\n",
        "\n",
        "<center><img src = 'https://i.imgur.com/1T7G2Xi.png' width = 800></center>\n",
        "\n",
        "**NOTE:** Pseudo code is a representation of an algorithm in a rough format.\n",
        "\n",
        "Pseudo Code:\n",
        "\n",
        "```\n",
        "Bubble Sort(Array a[ ])\n",
        "1. begin:\n",
        "2. for i = 1 to n − 1            // Outer loop for all positions\n",
        "3.   for j = 1 to n − i          // Inner loop to pop up the required element\n",
        "4.      if (a[j] > a[j + 1]) then  //Comparison\n",
        "5.         Swap (a[j], a[j + 1])   // Swaping\n",
        "6. end \n",
        "```\n",
        "\n",
        "Here, $a$ is the array to be sorted. \n",
        "\n",
        "$n$ is the number of elements in the array.\n",
        "\n",
        "Follow the steps given below to implement bubble sort algorithm in Python:\n",
        "1. Define a `bubbleSort()` function which takes an array `arr` as input. Initialize following variables inside the function:\n",
        "  - `n = len(arr)`: To store the number of elements in the array.\n",
        "  - `swap = 0`: To count the number of swaps.\n",
        "  - `comp = 0`: To count the number of comparisons.\n",
        "\n",
        "2. Initiate a `for` loop which iterates from `0` to `n-1`. Inside this `for` loop, initiate another `for`\n",
        "loop which iterates from `0` to `n-i-1`, where `i` is the iterator of outside `for` loop. Inside this nested `for` loop,\n",
        "  - Increment the `comp` variable by `1`.\n",
        "  - Compare the current element of array to the next element. If it is greater, then swap both the elements and increment `swap` variable in the following way:\n",
        "  ```python\n",
        "     if arr[j] > arr[j+1]:\n",
        "       arr[j], arr[j+1] = arr[j+1], arr[j] \n",
        "       swap = swap+1\n",
        "  ```\n",
        "  - Print the sorted array `arr` for the current pass using a `for` loop.\n",
        "\n",
        "3. Print the number of swaps stored in `swap` variable and the number of comparisons stored in `comp` variable outside the outer `for` loop.\n",
        "\n",
        "\n",
        "\n",
        "\n",
        "\n"
      ]
    },
    {
      "cell_type": "code",
      "metadata": {
        "id": "LhPAQY96mlD0"
      },
      "source": [
        "# S1.1: Bubble sort with given array.\n",
        "def bubbleSort(arr): \n",
        "    n = len(arr) #Number of elements in the array   \n",
        "    swap=0 # Counting number of swaps\n",
        "    comp=0 # Counting number of comparisons\n",
        "    for i in range(n-1): #Outerloop for each position.  \n",
        "        for j in range(0, n-i-1): # Inner loop for swaping \n",
        "              \n",
        "            print(\"-------------------------------------------\")         \n",
        "               \n",
        "            comp=comp+1  #Increment for each comparison  \n",
        "                      \n",
        "            if arr[j] > arr[j+1] : \n",
        "                arr[j], arr[j+1] = arr[j+1], arr[j] \n",
        "                swap=swap+1 #Increment for each swapping\n",
        "\n",
        "            # Print array    \n",
        "            print(\"Sorted Array for pass:\", i)  \n",
        "            for m in range(len(arr)): \n",
        "                print(arr[m])   \n",
        "    print(\"-------------------------------------------\")\n",
        "    \n",
        "    #Print total number of comparisons and swaps\n",
        "    print(\"Total Number of Swaps:\",swap)\n",
        "    print(\"Total Number of Comparisons:\",comp)            "
      ],
      "execution_count": null,
      "outputs": []
    },
    {
      "cell_type": "markdown",
      "metadata": {
        "id": "ys1T-P8yNO4o"
      },
      "source": [
        "Call `bubbleSort()` on array and print the final sorted array for:\n",
        "\n",
        "```\n",
        "1. arr1 = [5, 3, 4, 2, 1]\n",
        "2. arr2 = [1, 2, 3, 4, 5]\n",
        "3. arr3 = [5, 3, 4, 2, 1]\n",
        "```"
      ]
    },
    {
      "cell_type": "code",
      "metadata": {
        "id": "DAuiXnV3PTmh",
        "colab": {
          "base_uri": "https://localhost:8080/"
        },
        "outputId": "7b75eac8-a04f-491b-a85f-59843fa095a3"
      },
      "source": [
        "# S1.2: Sort the array 'arr1'.\n",
        "arr1 = [5, 3, 4, 2, 1]\n",
        "  \n",
        "bubbleSort(arr1) \n",
        "print(\"-------------------------------------------\") \n",
        "print (\"Sorted array is:\") \n",
        "for i in range(len(arr1)): \n",
        "    print(arr1[i]) "
      ],
      "execution_count": null,
      "outputs": [
        {
          "output_type": "stream",
          "name": "stdout",
          "text": [
            "-------------------------------------------\n",
            "Sorted Array for pass: 0\n",
            "3\n",
            "5\n",
            "4\n",
            "2\n",
            "1\n",
            "-------------------------------------------\n",
            "Sorted Array for pass: 0\n",
            "3\n",
            "4\n",
            "5\n",
            "2\n",
            "1\n",
            "-------------------------------------------\n",
            "Sorted Array for pass: 0\n",
            "3\n",
            "4\n",
            "2\n",
            "5\n",
            "1\n",
            "-------------------------------------------\n",
            "Sorted Array for pass: 0\n",
            "3\n",
            "4\n",
            "2\n",
            "1\n",
            "5\n",
            "-------------------------------------------\n",
            "Sorted Array for pass: 1\n",
            "3\n",
            "4\n",
            "2\n",
            "1\n",
            "5\n",
            "-------------------------------------------\n",
            "Sorted Array for pass: 1\n",
            "3\n",
            "2\n",
            "4\n",
            "1\n",
            "5\n",
            "-------------------------------------------\n",
            "Sorted Array for pass: 1\n",
            "3\n",
            "2\n",
            "1\n",
            "4\n",
            "5\n",
            "-------------------------------------------\n",
            "Sorted Array for pass: 2\n",
            "2\n",
            "3\n",
            "1\n",
            "4\n",
            "5\n",
            "-------------------------------------------\n",
            "Sorted Array for pass: 2\n",
            "2\n",
            "1\n",
            "3\n",
            "4\n",
            "5\n",
            "-------------------------------------------\n",
            "Sorted Array for pass: 3\n",
            "1\n",
            "2\n",
            "3\n",
            "4\n",
            "5\n",
            "-------------------------------------------\n",
            "Total Number of Swaps: 9\n",
            "Total Number of Comparisons: 10\n",
            "-------------------------------------------\n",
            "Sorted array is:\n",
            "1\n",
            "2\n",
            "3\n",
            "4\n",
            "5\n"
          ]
        }
      ]
    },
    {
      "cell_type": "code",
      "metadata": {
        "id": "YvKTQjh8xj7L",
        "colab": {
          "base_uri": "https://localhost:8080/"
        },
        "outputId": "71683ada-d770-4dc4-bf9b-5d41d5b22b1b"
      },
      "source": [
        "# S1: Try some other sequences with input array for sorting  \n",
        "# Already Sorted:[1, 2, 3, 4, 5](Best Case)\n",
        "\n",
        "arr2 = [1, 2, 3, 4, 5]  \n",
        "bubbleSort(arr2) \n",
        "print(\"-------------------------------------------\")\n",
        "print (\"Sorted array is:\") \n",
        "for i in range(len(arr2)): \n",
        "    print(arr2[i]) "
      ],
      "execution_count": null,
      "outputs": [
        {
          "output_type": "stream",
          "name": "stdout",
          "text": [
            "-------------------------------------------\n",
            "Sorted Array for pass: 0\n",
            "1\n",
            "2\n",
            "3\n",
            "4\n",
            "5\n",
            "-------------------------------------------\n",
            "Sorted Array for pass: 0\n",
            "1\n",
            "2\n",
            "3\n",
            "4\n",
            "5\n",
            "-------------------------------------------\n",
            "Sorted Array for pass: 0\n",
            "1\n",
            "2\n",
            "3\n",
            "4\n",
            "5\n",
            "-------------------------------------------\n",
            "Sorted Array for pass: 0\n",
            "1\n",
            "2\n",
            "3\n",
            "4\n",
            "5\n",
            "-------------------------------------------\n",
            "Sorted Array for pass: 1\n",
            "1\n",
            "2\n",
            "3\n",
            "4\n",
            "5\n",
            "-------------------------------------------\n",
            "Sorted Array for pass: 1\n",
            "1\n",
            "2\n",
            "3\n",
            "4\n",
            "5\n",
            "-------------------------------------------\n",
            "Sorted Array for pass: 1\n",
            "1\n",
            "2\n",
            "3\n",
            "4\n",
            "5\n",
            "-------------------------------------------\n",
            "Sorted Array for pass: 2\n",
            "1\n",
            "2\n",
            "3\n",
            "4\n",
            "5\n",
            "-------------------------------------------\n",
            "Sorted Array for pass: 2\n",
            "1\n",
            "2\n",
            "3\n",
            "4\n",
            "5\n",
            "-------------------------------------------\n",
            "Sorted Array for pass: 3\n",
            "1\n",
            "2\n",
            "3\n",
            "4\n",
            "5\n",
            "-------------------------------------------\n",
            "Total Number of Swaps: 0\n",
            "Total Number of Comparisons: 10\n",
            "-------------------------------------------\n",
            "Sorted array is:\n",
            "1\n",
            "2\n",
            "3\n",
            "4\n",
            "5\n"
          ]
        }
      ]
    },
    {
      "cell_type": "code",
      "metadata": {
        "id": "9WIbm3UDyS5S",
        "colab": {
          "base_uri": "https://localhost:8080/"
        },
        "outputId": "684e3b3d-e753-4935-8815-867203a40e22"
      },
      "source": [
        "# Reversely Sorted:[5, 4, 3, 2, 1](Worst Case)\n",
        "arr3 = [5, 4, 3, 2, 1]  \n",
        "bubbleSort(arr3) \n",
        "\n",
        "print(\"-------------------------------------------\") \n",
        "print (\"Sorted array is:\") \n",
        "for i in range(len(arr3)): \n",
        "    print(arr3[i]) "
      ],
      "execution_count": null,
      "outputs": [
        {
          "output_type": "stream",
          "name": "stdout",
          "text": [
            "-------------------------------------------\n",
            "Sorted Array for pass: 0\n",
            "4\n",
            "5\n",
            "3\n",
            "2\n",
            "1\n",
            "-------------------------------------------\n",
            "Sorted Array for pass: 0\n",
            "4\n",
            "3\n",
            "5\n",
            "2\n",
            "1\n",
            "-------------------------------------------\n",
            "Sorted Array for pass: 0\n",
            "4\n",
            "3\n",
            "2\n",
            "5\n",
            "1\n",
            "-------------------------------------------\n",
            "Sorted Array for pass: 0\n",
            "4\n",
            "3\n",
            "2\n",
            "1\n",
            "5\n",
            "-------------------------------------------\n",
            "Sorted Array for pass: 1\n",
            "3\n",
            "4\n",
            "2\n",
            "1\n",
            "5\n",
            "-------------------------------------------\n",
            "Sorted Array for pass: 1\n",
            "3\n",
            "2\n",
            "4\n",
            "1\n",
            "5\n",
            "-------------------------------------------\n",
            "Sorted Array for pass: 1\n",
            "3\n",
            "2\n",
            "1\n",
            "4\n",
            "5\n",
            "-------------------------------------------\n",
            "Sorted Array for pass: 2\n",
            "2\n",
            "3\n",
            "1\n",
            "4\n",
            "5\n",
            "-------------------------------------------\n",
            "Sorted Array for pass: 2\n",
            "2\n",
            "1\n",
            "3\n",
            "4\n",
            "5\n",
            "-------------------------------------------\n",
            "Sorted Array for pass: 3\n",
            "1\n",
            "2\n",
            "3\n",
            "4\n",
            "5\n",
            "-------------------------------------------\n",
            "Total Number of Swaps: 10\n",
            "Total Number of Comparisons: 10\n",
            "-------------------------------------------\n",
            "Sorted array is:\n",
            "1\n",
            "2\n",
            "3\n",
            "4\n",
            "5\n"
          ]
        }
      ]
    },
    {
      "cell_type": "markdown",
      "metadata": {
        "id": "Fz5v90Teyr63"
      },
      "source": [
        "**Q:** What is your observation on the number of swaps and comparisons?\n",
        "\n",
        "**A:** For already sorted array:\n",
        " - Number of swaps = `0`\n",
        " - Number of comparisons = `10` \n",
        "\n",
        "For reverse sorted array:\n",
        "  - Number of swaps = `10`\n",
        "  - Number of comparisons = `10` \n"
      ]
    },
    {
      "cell_type": "markdown",
      "metadata": {
        "id": "rd3D6STPqWpJ"
      },
      "source": [
        "---"
      ]
    },
    {
      "cell_type": "markdown",
      "metadata": {
        "id": "_9nrmjiTzqfh"
      },
      "source": [
        "#### Task 2: Selection Sort\n",
        "\n",
        "Selection Sort is selecting a minimum element and putting it at its corresponding position in the sorted list. Select the first index and then swap the element located there with the index where the smallest element is located. Repeat this operation for $n-1$ time(s) and all the elements will be sorted.  \n",
        "\n",
        "\n",
        "\n",
        "\n",
        "Let's, sort array=$[5, 3, 4, 2, 1]$ using the above algorithm.\n",
        "\n",
        "**First Pass: The smallest element gets swapped with the element at the first position.**\n",
        "\n",
        "$[1, 3, 4, 2, 5]$\n",
        "\n",
        "**Second Pass: The second smallest element gets swapped with the element at the second position.**\n",
        "\n",
        "$[1, 2, 4, 3, 5]$\n",
        "\n",
        "**Third Pass: The third-smallest element gets swapped with the element at the third position.**\n",
        "\n",
        "$[1, 2, 3, 4, 5]$\n",
        "\n",
        "**Fourth Pass: The fourth-largest Element gets positioned towards the right.**\n",
        "\n",
        "$[1, 2, 3, 4, 5]$\n",
        "\n",
        "We can observe that how after each iteration the largest unsorted number is set at its right position for the sorted array. \n",
        "\n",
        "<center><img src = 'https://github.com/TANMAYGHODE/images/blob/master/Selection_sort_2.png?raw=true' width = 800></center>\n",
        "\n",
        "Algorithm:\n",
        "\n",
        "           \n",
        "\n",
        "```\n",
        "Selection Sort(Array a[])\n",
        "1. begin:\n",
        "2.  for i = 0 to n-1  //outer loop for selecting all indices\n",
        "3.   min_index=i          // store index of min element\n",
        "3.    for j = i+1 to n\n",
        "4.    if a[min_index] > a[j]:  // Comparison          \n",
        "5.     min_index = j             \n",
        "6.  a[i], a[min_index] = a[min_index], a[i] //swaping\n",
        "7. end\n",
        "```\n",
        "Here, $a$ is the array to be sorted. \n",
        "$n$ is the number of elements in the array.\n",
        "\n",
        "Follow the steps given below to implement selection sort algorithm in Python:\n",
        "1. Define a `selectionSort()` function which takes an array `arr` as input. Initialise following variables inside the function:\n",
        "  - `n = len(arr)`: To store the number of elements in the array.\n",
        "  - `swap = 0`: To count the number of swaps.\n",
        "  - `comp = 0`: To count the number of comparisons.\n",
        "\n",
        "2. Initiate a `for` loop which iterates from `0` to `n-1`. Initialise a variable `min_index` which stores the current iterator value `i`. Inside this `for` loop, initiate another `for`\n",
        "loop which iterates from `i+1` to `len(arr) - 1`, where `i` is the iterator of outside `for` loop. Inside this nested `for` loop,\n",
        "  - Increment the `comp` variable by `1`.\n",
        "  - Compare the element at `min_index` position to the current element. If it is greater, then swap both the elements's index value and increment `swap` variable in the following way:\n",
        "  ```python\n",
        "     if arr[min_index] > arr[j]:\n",
        "       swap = swap + 1\n",
        "       min_index = j \n",
        "  ```\n",
        "  - Print the sorted array `arr` for the current pass using a `for` loop.\n",
        "  - Swap the current element with minimum element in the following way:\n",
        "  ```python\n",
        "  arr[i], arr[min_index] = arr[min_index], arr[i]\n",
        "  ```\n",
        "\n",
        "3. Print the number of swaps stored in `swap` variable and the number of comparisons stored in `comp` variable outside the outer `for` loop. \n"
      ]
    },
    {
      "cell_type": "code",
      "metadata": {
        "id": "nHzhfIxQyaMk",
        "colab": {
          "base_uri": "https://localhost:8080/"
        },
        "outputId": "27d58665-ea82-41bf-9971-74cc51fb723e"
      },
      "source": [
        " # T2: Selection sort with given array.\n",
        "def selectionSort(arr): \n",
        "    n = len(arr)  # Number of elements in the array \n",
        "    swap=0 # Counting number of swaps\n",
        "    comp=0 # Counting number of comparisons\n",
        "    for i in range(n): # Outer loop for comparisons\n",
        "      min_idx = i \n",
        "      for j in range(i+1, len(arr)): # inner loop for swaping\n",
        "        comp=comp+1 \n",
        "        if arr[min_idx] > arr[j]: # Finding index of smallest element.\n",
        "            swap=swap+1\n",
        "            min_idx = j \n",
        "        # Print array\n",
        "      print(\"Sorted Array for pass:\", i)  \n",
        "      for m in range(len(arr)): \n",
        "        print(arr[m])        \n",
        "      \n",
        "      #swapping \n",
        "      arr[i], arr[min_idx] = arr[min_idx], arr[i]\n",
        "      print(\"-------------------------------------------\")\n",
        "\n",
        "    print(\"Total Number of Swaps:\",swap)\n",
        "    print(\"Total Number of Comparisons:\",comp)   \n",
        "\n",
        "arr = [5, 3, 4, 2, 1]\n",
        "  \n",
        "selectionSort(arr)\n",
        "\n",
        "\n",
        "print(\"-------------------------------------------\")  \n",
        "\n",
        "print (\"Sorted array is:\") \n",
        "for i in range(len(arr)): \n",
        "    print(arr[i])  \n",
        "\n",
        "\n",
        "\n"
      ],
      "execution_count": null,
      "outputs": [
        {
          "output_type": "stream",
          "name": "stdout",
          "text": [
            "Sorted Array for pass: 0\n",
            "5\n",
            "3\n",
            "4\n",
            "2\n",
            "1\n",
            "-------------------------------------------\n",
            "Sorted Array for pass: 1\n",
            "1\n",
            "3\n",
            "4\n",
            "2\n",
            "5\n",
            "-------------------------------------------\n",
            "Sorted Array for pass: 2\n",
            "1\n",
            "2\n",
            "4\n",
            "3\n",
            "5\n",
            "-------------------------------------------\n",
            "Sorted Array for pass: 3\n",
            "1\n",
            "2\n",
            "3\n",
            "4\n",
            "5\n",
            "-------------------------------------------\n",
            "Sorted Array for pass: 4\n",
            "1\n",
            "2\n",
            "3\n",
            "4\n",
            "5\n",
            "-------------------------------------------\n",
            "Total Number of Swaps: 5\n",
            "Total Number of Comparisons: 10\n",
            "-------------------------------------------\n",
            "Sorted array is:\n",
            "1\n",
            "2\n",
            "3\n",
            "4\n",
            "5\n"
          ]
        }
      ]
    },
    {
      "cell_type": "markdown",
      "metadata": {
        "id": "Dxpt44ftOrW6"
      },
      "source": [
        "Call `selectionSort()` on array and print the final sorted array for:\n",
        "\n",
        "```\n",
        "1. arr1 = [5, 3, 4, 2, 1]\n",
        "2. arr2 = [1, 2, 3, 4, 5]\n",
        "3. arr3 = [5, 3, 4, 2, 1]\n",
        "```"
      ]
    },
    {
      "cell_type": "code",
      "metadata": {
        "colab": {
          "base_uri": "https://localhost:8080/"
        },
        "id": "tWNL6Dxmp0Rc",
        "outputId": "fc9b1d89-2cb1-4a19-a20f-990c3e2b1ccb"
      },
      "source": [
        "# S2.2: Sort array 'arr1' using selection sort\n",
        "arr1 = [5, 3, 4, 2, 1]\n",
        "  \n",
        "selectionSort(arr1)\n",
        "print(\"-------------------------------------------\")  \n",
        "\n",
        "print (\"Sorted array is:\") \n",
        "for i in range(len(arr1)): \n",
        "    print(arr1[i])  \n"
      ],
      "execution_count": null,
      "outputs": [
        {
          "output_type": "stream",
          "name": "stdout",
          "text": [
            "Sorted Array for pass: 0\n",
            "5\n",
            "3\n",
            "4\n",
            "2\n",
            "1\n",
            "-------------------------------------------\n",
            "Sorted Array for pass: 1\n",
            "1\n",
            "3\n",
            "4\n",
            "2\n",
            "5\n",
            "-------------------------------------------\n",
            "Sorted Array for pass: 2\n",
            "1\n",
            "2\n",
            "4\n",
            "3\n",
            "5\n",
            "-------------------------------------------\n",
            "Sorted Array for pass: 3\n",
            "1\n",
            "2\n",
            "3\n",
            "4\n",
            "5\n",
            "-------------------------------------------\n",
            "Sorted Array for pass: 4\n",
            "1\n",
            "2\n",
            "3\n",
            "4\n",
            "5\n",
            "-------------------------------------------\n",
            "Total Number of Swaps: 5\n",
            "Total Number of Comparisons: 10\n",
            "-------------------------------------------\n",
            "Sorted array is:\n",
            "1\n",
            "2\n",
            "3\n",
            "4\n",
            "5\n"
          ]
        }
      ]
    },
    {
      "cell_type": "code",
      "metadata": {
        "id": "3-J1EonA7bjQ",
        "colab": {
          "base_uri": "https://localhost:8080/"
        },
        "outputId": "60259b2b-6a92-444e-b5dc-3244c3d6a6d6"
      },
      "source": [
        "# S2.3: Try some other sequences with input array for sorting  \n",
        "# Sorted array:[1, 2, 3, 4, 5]\n",
        "\n",
        "arr2 = [1, 2, 3, 4, 5]\n",
        "  \n",
        "selectionSort(arr2)\n",
        "\n",
        "\n",
        "print(\"-------------------------------------------\")  \n",
        "\n",
        "print (\"Sorted array is:\") \n",
        "for i in range(len(arr2)): \n",
        "    print(arr2[i]) \n"
      ],
      "execution_count": null,
      "outputs": [
        {
          "output_type": "stream",
          "name": "stdout",
          "text": [
            "Sorted Array for pass: 0\n",
            "1\n",
            "2\n",
            "3\n",
            "4\n",
            "5\n",
            "-------------------------------------------\n",
            "Sorted Array for pass: 1\n",
            "1\n",
            "2\n",
            "3\n",
            "4\n",
            "5\n",
            "-------------------------------------------\n",
            "Sorted Array for pass: 2\n",
            "1\n",
            "2\n",
            "3\n",
            "4\n",
            "5\n",
            "-------------------------------------------\n",
            "Sorted Array for pass: 3\n",
            "1\n",
            "2\n",
            "3\n",
            "4\n",
            "5\n",
            "-------------------------------------------\n",
            "Sorted Array for pass: 4\n",
            "1\n",
            "2\n",
            "3\n",
            "4\n",
            "5\n",
            "-------------------------------------------\n",
            "Total Number of Swaps: 0\n",
            "Total Number of Comparisons: 10\n",
            "-------------------------------------------\n",
            "Sorted array is:\n",
            "1\n",
            "2\n",
            "3\n",
            "4\n",
            "5\n"
          ]
        }
      ]
    },
    {
      "cell_type": "code",
      "metadata": {
        "id": "nP3vCa5J80nK",
        "colab": {
          "base_uri": "https://localhost:8080/"
        },
        "outputId": "01ead42f-a778-4881-a110-35ec4af5db7c"
      },
      "source": [
        "# Sort the reverse array 'arr3'= [5, 4, 3, 2, 1]\n",
        "arr3 = [5, 4, 3, 2, 1]  \n",
        "selectionSort(arr3)\n",
        "print(\"-------------------------------------------\")  \n",
        "\n",
        "print (\"Sorted array is:\") \n",
        "for i in range(len(arr3)): \n",
        "    print(arr3[i]) "
      ],
      "execution_count": null,
      "outputs": [
        {
          "output_type": "stream",
          "name": "stdout",
          "text": [
            "Sorted Array for pass: 0\n",
            "5\n",
            "4\n",
            "3\n",
            "2\n",
            "1\n",
            "-------------------------------------------\n",
            "Sorted Array for pass: 1\n",
            "1\n",
            "4\n",
            "3\n",
            "2\n",
            "5\n",
            "-------------------------------------------\n",
            "Sorted Array for pass: 2\n",
            "1\n",
            "2\n",
            "3\n",
            "4\n",
            "5\n",
            "-------------------------------------------\n",
            "Sorted Array for pass: 3\n",
            "1\n",
            "2\n",
            "3\n",
            "4\n",
            "5\n",
            "-------------------------------------------\n",
            "Sorted Array for pass: 4\n",
            "1\n",
            "2\n",
            "3\n",
            "4\n",
            "5\n",
            "-------------------------------------------\n",
            "Total Number of Swaps: 6\n",
            "Total Number of Comparisons: 10\n",
            "-------------------------------------------\n",
            "Sorted array is:\n",
            "1\n",
            "2\n",
            "3\n",
            "4\n",
            "5\n"
          ]
        }
      ]
    },
    {
      "cell_type": "markdown",
      "metadata": {
        "id": "HeerVVZs8FGI"
      },
      "source": [
        "**Q:** What is your observation on the Number of Swaps and Comparisons?\n",
        "\n",
        "**A:** Number of Swaps in an already sorted array is 0, which is less than the number of comparisons for the reversely sorted array.\n",
        "\n",
        "**Q:** Which algorithm do you think is better, selection sort or bubble sort?\n",
        "\n",
        "**A:** Selection sort, as it makes fewer swaps in both already sorted and reversely sorted arrays."
      ]
    },
    {
      "cell_type": "markdown",
      "metadata": {
        "id": "G4zkoMx-qUi7"
      },
      "source": [
        "---"
      ]
    },
    {
      "cell_type": "markdown",
      "metadata": {
        "id": "3mj9SqS778zX"
      },
      "source": [
        "#### Task 3: Insertion Sort\n",
        "\n",
        "Insertion Sort is inserting one element after another and placing the newly added element at a position such that all the elements of the indices included are sorted.  One can relate it to the game of cards. When you are given a card you pick one by one and then place it in their respective order of sequence. \n",
        "\n",
        "\n",
        "\n",
        "\n",
        "\n",
        "Let's, sort array=$[5, 3, 4, 2, 1]$ with the above algorithm.\n",
        "\n",
        "**First Pass: First two elements are sorted.**\n",
        "\n",
        "$[3, 5, 4, 2, 1]$\n",
        "\n",
        "**Second Pass: First three elements are sorted.**\n",
        "\n",
        "$[3, 4, 5, 2, 1]$\n",
        "\n",
        "\n",
        "**Third Pass:  First four elements are sorted.**\n",
        "\n",
        "$[2, 3, 4, 5, 1]$\n",
        "\n",
        "**Fourth Pass: First five elements are sorted.**\n",
        "\n",
        "$[1, 2, 3, 4, 5]$\n",
        "\n",
        "We can observe that how after each iteration array at the right-hand side is sorted till the indices are covered. \n",
        "\n",
        "<center><img src = 'https://github.com/TANMAYGHODE/images/blob/master/Insertion_sort_2.png?raw=true' width = 800></center>\n",
        "\n",
        "The underlined array is sorted and a new element with each iteration is placed at its corresponding location in the array. \n",
        "\n",
        "Algorithm:\n",
        "\n",
        "```\n",
        "Insertion Sort(Array a[])\n",
        "1. begin:\n",
        "2.  for i = 0 to n-1\n",
        "3.   key = arr[i]\n",
        "3.   j = i-1 \n",
        "4.   while j >=0 and key < arr[j]: \n",
        "5.    arr[j+1]=arr[j]\n",
        "6.    j=j-1\n",
        "7.   arr[j+1]= key  \n",
        "8. end\n",
        "```\n",
        "        \n",
        "\n",
        "Here, $a$ is the array to be sorted. \n",
        "$n$ is the number of elements in the array.\n",
        "\n",
        "\n",
        "Follow the steps given below to implement insertion sort algorithm in Python:\n",
        "1. Define an `insertionSort()` function which takes an array `arr` as input. Initialise following variables inside the function:\n",
        "  - `n = len(arr)`: To store the number of elements in the array.\n",
        "  - `swap = 0`: To count the number of swaps.\n",
        "  - `comp = 0`: To count the number of comparisons.\n",
        "\n",
        "2. Initiate a `for` loop which iterates from `1` to `n`. Initialise a variable `key` which stores the current element `arr[i]`, where `i` is the iterator of outside `for` loop. \n",
        "\n",
        "  Initialise another variable `j = i - 1`. Increment the `comp` variable by `2`. Inside this `for` loop, initiate another `while` loop which iterates till the correct location of element is found out in sorted array. Inside this `while` loop, swap the elements at their correct position and increment `swap` variable by `1` as follows:\n",
        "  ```python\n",
        "     while j >= 0 and key < arr[j] :\n",
        "       arr[j + 1] = arr[j] \n",
        "       swap = swap + 1\n",
        "  ```\n",
        "  - Place the element at the correct location of the element (`i`) found by the `while` loop, as:\n",
        "  `arr[j+1] = key`.\n",
        "  - Print the sorted array `arr` for the current pass using a `for` loop.\n",
        "  \n",
        "3. Print the number of swaps stored in `swap` variable and the number of comparisons stored in `comp` variable outside the `for` loop.\n",
        "\n",
        "\n",
        "\n"
      ]
    },
    {
      "cell_type": "code",
      "metadata": {
        "id": "3yD9sXFwObb0",
        "colab": {
          "base_uri": "https://localhost:8080/"
        },
        "outputId": "d436556a-a39e-4035-8f7c-4b43f63a0b25"
      },
      "source": [
        " # T3: Insertion sort with given array.\n",
        "\n",
        "def insertionSort(arr): \n",
        "    n = len(arr)   # Number of elements in the array\n",
        "    swap=0 # Number of swaps\n",
        "    comp=0 # Number of comparisons0\n",
        "  \n",
        "\n",
        "    for i in range(1, n): #Outer loop\n",
        "  \n",
        "        key = arr[i] # Key\n",
        "  \n",
        "        j = i-1\n",
        "        comp=comp+2\n",
        "        while j >= 0 and key < arr[j] : # Inner loop iterating till the correct location of element is found out in sorted array \n",
        "                arr[j + 1] = arr[j] \n",
        "                swap=swap+1\n",
        "                \n",
        "                j =j - 1\n",
        "              \n",
        "        arr[j + 1] = key # placing the element\n",
        "\n",
        "        # Print the array for pass\n",
        "        print(\"Sorted Array for pass:\", i)  \n",
        "        for m in range(len(arr)): \n",
        "          print(arr[m])\n",
        "        print(\"-------------------------------------------\")\n",
        "\n",
        "    print(\"Total Number of Swaps:\",swap)\n",
        "    print(\"Total Number of Comparisons:\",comp)  \n",
        "\n",
        "arr = [5, 3, 4, 2, 1]\n",
        "  \n",
        "insertionSort(arr)\n",
        "\n",
        "\n",
        "print(\"-------------------------------------------\")  \n",
        "\n",
        "print (\"Sorted array is:\") \n",
        "for i in range(len(arr)): \n",
        "    print(arr[i])  \n",
        "\n",
        "\n",
        "\n"
      ],
      "execution_count": null,
      "outputs": [
        {
          "output_type": "stream",
          "name": "stdout",
          "text": [
            "Sorted Array for pass: 1\n",
            "3\n",
            "5\n",
            "4\n",
            "2\n",
            "1\n",
            "-------------------------------------------\n",
            "Sorted Array for pass: 2\n",
            "3\n",
            "4\n",
            "5\n",
            "2\n",
            "1\n",
            "-------------------------------------------\n",
            "Sorted Array for pass: 3\n",
            "2\n",
            "3\n",
            "4\n",
            "5\n",
            "1\n",
            "-------------------------------------------\n",
            "Sorted Array for pass: 4\n",
            "1\n",
            "2\n",
            "3\n",
            "4\n",
            "5\n",
            "-------------------------------------------\n",
            "Total Number of Swaps: 9\n",
            "Total Number of Comparisons: 8\n",
            "-------------------------------------------\n",
            "Sorted array is:\n",
            "1\n",
            "2\n",
            "3\n",
            "4\n",
            "5\n"
          ]
        }
      ]
    },
    {
      "cell_type": "markdown",
      "metadata": {
        "id": "2wzd0Wv_Py1D"
      },
      "source": [
        "Call `insertionSort()` on array and print the final sorted array for:\n",
        "\n",
        "```\n",
        "1. arr1 = [5, 3, 4, 2, 1]\n",
        "2. arr2 = [1, 2, 3, 4, 5]\n",
        "3. arr3 = [5, 3, 4, 2, 1]\n",
        "```"
      ]
    },
    {
      "cell_type": "code",
      "metadata": {
        "colab": {
          "base_uri": "https://localhost:8080/"
        },
        "id": "9Nu06yGzqhwD",
        "outputId": "31894f81-f0f5-47d9-9eae-0839cee63aa8"
      },
      "source": [
        "# S3.2: Call 'insertionSort' on arr1.\n",
        "arr1 = [5, 3, 4, 2, 1]  \n",
        "insertionSort(arr1)\n",
        "\n",
        "print(\"-------------------------------------------\")\n",
        "print (\"Sorted array is:\") \n",
        "for i in range(len(arr1)): \n",
        "    print(arr1[i])  \n"
      ],
      "execution_count": null,
      "outputs": [
        {
          "output_type": "stream",
          "name": "stdout",
          "text": [
            "Sorted Array for pass: 1\n",
            "3\n",
            "5\n",
            "4\n",
            "2\n",
            "1\n",
            "-------------------------------------------\n",
            "Sorted Array for pass: 2\n",
            "3\n",
            "4\n",
            "5\n",
            "2\n",
            "1\n",
            "-------------------------------------------\n",
            "Sorted Array for pass: 3\n",
            "2\n",
            "3\n",
            "4\n",
            "5\n",
            "1\n",
            "-------------------------------------------\n",
            "Sorted Array for pass: 4\n",
            "1\n",
            "2\n",
            "3\n",
            "4\n",
            "5\n",
            "-------------------------------------------\n",
            "Total Number of Swaps: 9\n",
            "Total Number of Comparisons: 8\n",
            "-------------------------------------------\n",
            "Sorted array is:\n",
            "1\n",
            "2\n",
            "3\n",
            "4\n",
            "5\n"
          ]
        }
      ]
    },
    {
      "cell_type": "code",
      "metadata": {
        "id": "naZdJs1cxY7w",
        "colab": {
          "base_uri": "https://localhost:8080/"
        },
        "outputId": "713ba5ad-c7e8-4bbb-a347-3b3092f25593"
      },
      "source": [
        "# S3.3:Try some other sequences with input array for sorting  \n",
        "# Already Sorted:[1, 2, 3, 4, 5]\n",
        "\n",
        "arr2 = [1, 2, 3, 4, 5]\n",
        "  \n",
        "insertionSort(arr2)\n",
        "\n",
        "\n",
        "print(\"-------------------------------------------\")  \n",
        "\n",
        "print (\"Sorted array is:\") \n",
        "for i in range(len(arr2)): \n",
        "    print(arr2[i]) \n"
      ],
      "execution_count": null,
      "outputs": [
        {
          "output_type": "stream",
          "name": "stdout",
          "text": [
            "Sorted Array for pass: 1\n",
            "1\n",
            "2\n",
            "3\n",
            "4\n",
            "5\n",
            "-------------------------------------------\n",
            "Sorted Array for pass: 2\n",
            "1\n",
            "2\n",
            "3\n",
            "4\n",
            "5\n",
            "-------------------------------------------\n",
            "Sorted Array for pass: 3\n",
            "1\n",
            "2\n",
            "3\n",
            "4\n",
            "5\n",
            "-------------------------------------------\n",
            "Sorted Array for pass: 4\n",
            "1\n",
            "2\n",
            "3\n",
            "4\n",
            "5\n",
            "-------------------------------------------\n",
            "Total Number of Swaps: 0\n",
            "Total Number of Comparisons: 8\n",
            "-------------------------------------------\n",
            "Sorted array is:\n",
            "1\n",
            "2\n",
            "3\n",
            "4\n",
            "5\n"
          ]
        }
      ]
    },
    {
      "cell_type": "code",
      "metadata": {
        "id": "sTiv38emXpHw",
        "colab": {
          "base_uri": "https://localhost:8080/"
        },
        "outputId": "fd49ebbb-2349-4208-85dc-9b41ef80c8e8"
      },
      "source": [
        "# S3.4: Call 'insertionSort()' for reversely sorted array arr3 = [5, 4, 3, 2, 1]\n",
        "\n",
        "arr3 = [5, 4, 3, 2, 1]  \n",
        "insertionSort(arr3)\n",
        "\n",
        "print(\"-------------------------------------------\")  \n",
        "\n",
        "print (\"Sorted array is:\") \n",
        "for i in range(len(arr3)): \n",
        "    print(arr3[i]) "
      ],
      "execution_count": null,
      "outputs": [
        {
          "output_type": "stream",
          "name": "stdout",
          "text": [
            "Sorted Array for pass: 1\n",
            "4\n",
            "5\n",
            "3\n",
            "2\n",
            "1\n",
            "-------------------------------------------\n",
            "Sorted Array for pass: 2\n",
            "3\n",
            "4\n",
            "5\n",
            "2\n",
            "1\n",
            "-------------------------------------------\n",
            "Sorted Array for pass: 3\n",
            "2\n",
            "3\n",
            "4\n",
            "5\n",
            "1\n",
            "-------------------------------------------\n",
            "Sorted Array for pass: 4\n",
            "1\n",
            "2\n",
            "3\n",
            "4\n",
            "5\n",
            "-------------------------------------------\n",
            "Total Number of Swaps: 10\n",
            "Total Number of Comparisons: 8\n",
            "-------------------------------------------\n",
            "Sorted array is:\n",
            "1\n",
            "2\n",
            "3\n",
            "4\n",
            "5\n"
          ]
        }
      ]
    },
    {
      "cell_type": "markdown",
      "metadata": {
        "id": "ElhCL-I_Xx4N"
      },
      "source": [
        "**Q:** What are your observations?\n",
        "\n",
        "**A:** Number of comparisons are the same for both the cases of already sorted and reversely sorted arrays. \n",
        "\n",
        "**Q:** Which algorithm will you use to sort while:\n",
        "\n",
        "1. Sorting books in a Library.\n",
        "\n",
        "2. Sorting students in a line (According to height). \n",
        "\n",
        "3. Selection of top $5$ Students from class.\n",
        "\n",
        "**A:** \n",
        "1. Insertion Sort.\n",
        "\n",
        "2. Selection Sort/Insertion Sort.\n",
        "\n",
        "3. Bubble Sort/ Insertion Sort.\n",
        "\n"
      ]
    },
    {
      "cell_type": "markdown",
      "metadata": {
        "id": "58QgA8DPrIHR"
      },
      "source": [
        "---"
      ]
    },
    {
      "cell_type": "markdown",
      "metadata": {
        "id": "1ZFi-HFZhoMr"
      },
      "source": [
        "# Lesson 72: Sorting Algorithms - II"
      ]
    },
    {
      "cell_type": "markdown",
      "metadata": {
        "id": "1p5emuY19FwU"
      },
      "source": [
        "---"
      ]
    },
    {
      "cell_type": "markdown",
      "metadata": {
        "id": "D-Mr5iPeiOQU"
      },
      "source": [
        "### Teacher-Student Tasks\n",
        "\n",
        "When you are given a problem in computer science. We can solve it by using more than one method. These methods are also known as Algorithms. There can be more than one algorithm to solve the problem. There is always a question of which algorithm to use in the mind of a computer science programmer on the choice of algorithm for a specific case. \n",
        "\n",
        "A programmer mainly considers two things before selecting an algorithm:\n",
        "\n",
        "\n",
        "- The time required for its execution.\n",
        "- Memory space required. \n",
        "\n",
        "There is often a trade-off between these two.\n",
        "\n",
        "In this class, we will learn about the performance of the program based on time.\n"
      ]
    },
    {
      "cell_type": "markdown",
      "metadata": {
        "id": "xEgJlSusFrlr"
      },
      "source": [
        "----"
      ]
    },
    {
      "cell_type": "markdown",
      "metadata": {
        "id": "Z78qWNAbF1ga"
      },
      "source": [
        "#### Recap:\n",
        "\n",
        "In the last class we have studied sorting algorithms namely:\n",
        "\n",
        "1. **Bubble sort** - Place largest (can be implemented for smallest as well) element for each iteration on its correct position in the sorted list.\n",
        "\n",
        "2. **Selection sort** - Select the smallest element and put it in its correct position in the sorted list.\n",
        "\n",
        "3. **Insertion sort** - Insert elements serially and place them accordingly in their correct position in the sorted array.\n"
      ]
    },
    {
      "cell_type": "markdown",
      "metadata": {
        "id": "PyTjFofrpWFT"
      },
      "source": [
        "---"
      ]
    },
    {
      "cell_type": "markdown",
      "metadata": {
        "id": "IKGXgwz3iT-V"
      },
      "source": [
        "#### Task 1: Time Complexity\n",
        "\n",
        "\n",
        "\n",
        "**Time complexity** is the number of operations an algorithm performs to complete its task. The performance of the algorithms can be compared with Time complexity using $\\mathcal{O}$ also known as **big-O**  notation.\n",
        "\n",
        "The time required for an algorithm to complete is the function of the number of inputs $n$. To understand this, let the time required for an algorithm to finish its execution be $f(n)$, where $n$ is the number of inputs. \n",
        "\n",
        "Let, $g(n)$ be another function and $c$ be the constant as shown in the following graph:\n",
        "\n",
        "<center><img src = 'https://github.com/TANMAYGHODE/images/blob/master/BigO.png?raw=true' width = 800></center>\n",
        "\n",
        "Refer the following graph to compare different time complexities using Number of Elements and Number of Operations:\n",
        "\n",
        "<center><img src = 'https://github.com/TANMAYGHODE/images/blob/master/Time_complexity.png?raw=true' width = 800></center>\n",
        "\n",
        "**Example 1:**\n",
        "\n",
        "$f(n)=6n+2$ and $g(n)=n$\n",
        "\n",
        "Is $f(n)=\\mathcal{O}(n)?$ where $1\\leq n$ and $c>0$\n",
        "\n",
        "$6n+2 < cn$ for\n",
        "$c=7$ Hence, True!\n",
        "\n",
        "Something to be noted here is all $f(n) = \\mathcal{O}(n^2)$, $f(n) = \\mathcal{O}(n^2)$.... $f(n) = \\mathcal{O}(n^k)$ where $k$ is an integer is also true. We will concentrate most on the tighest upper bound for these cases.\n",
        "\n",
        "\n",
        "**Example 2:**\n",
        "\n",
        "Let us create a loop to execute from `0` to `n`\n"
      ]
    },
    {
      "cell_type": "code",
      "metadata": {
        "colab": {
          "base_uri": "https://localhost:8080/"
        },
        "id": "nNCbKlPus9O6",
        "outputId": "bf32ae11-a6a9-4cb1-f6c4-e181cb978289"
      },
      "source": [
        "#T1.1: Create a loop to execute n times\n",
        "n= 100\n",
        "counter = 0\n",
        "\n",
        "for i in range(n):\n",
        "  #print(i)\n",
        "  counter = counter + 1\n",
        "\n",
        "print(f\"The above loop was executed {counter} times\")"
      ],
      "execution_count": null,
      "outputs": [
        {
          "output_type": "stream",
          "name": "stdout",
          "text": [
            "The above loop was executed 100 times\n"
          ]
        }
      ]
    },
    {
      "cell_type": "markdown",
      "metadata": {
        "id": "eT18wt8ctpj0"
      },
      "source": [
        "\n",
        "We can see that loop will run $n$ times in the worst case. So we can say that the above algorithm is $\\mathcal{O}(n)$.\n",
        "\n",
        "**Example 2:**\n",
        "\n",
        "Let's observe a nested loop which where the inner loop, as well as the outer loop, will execute $n$ times:\n"
      ]
    },
    {
      "cell_type": "code",
      "metadata": {
        "colab": {
          "base_uri": "https://localhost:8080/"
        },
        "id": "29RivtmeuU0l",
        "outputId": "ab363887-c21d-4164-8966-6ecef5b415a5"
      },
      "source": [
        "#T1.2: Create two nested loop \n",
        "\n",
        "n = 100\n",
        "counter = 0\n",
        "\n",
        "for i in range(n):\n",
        "  for j in range(n):\n",
        "    #print(i)\n",
        "    counter = counter + 1\n",
        "\n",
        "print(f\"The above loop was executed {counter} times\")"
      ],
      "execution_count": null,
      "outputs": [
        {
          "output_type": "stream",
          "name": "stdout",
          "text": [
            "The above loop was executed 10000 times\n"
          ]
        }
      ]
    },
    {
      "cell_type": "markdown",
      "metadata": {
        "id": "2mNovjHxusGq"
      },
      "source": [
        "We can see that loop will run $n \\times n$ times in the worst case. So we can say that the above algorithm is $\\mathcal{O}(n^2)$.\n",
        "\n",
        "**Example 3:**\n",
        "\n",
        "Let's observe the time complexity when `i` is multiplied by 2 in every step:"
      ]
    },
    {
      "cell_type": "code",
      "metadata": {
        "colab": {
          "base_uri": "https://localhost:8080/"
        },
        "id": "blR1jeSdu47r",
        "outputId": "df7257f8-e69e-43ca-efb5-260d7b235caa"
      },
      "source": [
        "#T1.3: Create two-loop \n",
        "import math as m\n",
        "\n",
        "n = 100\n",
        "counter = 0\n",
        "i= 1\n",
        "\n",
        "while i < n :\n",
        "  i=i*2\n",
        "  counter = counter + 1\n",
        "print(f\"The above loop was executed {counter} times\")\n",
        "print(f\"Log of {n} is {round(m.log(n, 2))}\")"
      ],
      "execution_count": null,
      "outputs": [
        {
          "output_type": "stream",
          "name": "stdout",
          "text": [
            "The above loop was executed 7 times\n",
            "Log of 100 is 7\n"
          ]
        }
      ]
    },
    {
      "cell_type": "markdown",
      "metadata": {
        "id": "7h8s1aP8znqK"
      },
      "source": [
        "\n",
        "We can see that loop will run $\\log(n)$ times in the worst case. So we can say that the above algorithm is $\\mathcal{O}(\\log(n))$.\n",
        "\n",
        "**Example 4:**\n",
        "\n",
        "Let's observe a nested loop which where the outer loop will execute n times and in the inner loop the step `j` is multiplied by 2 in every step:\n"
      ]
    },
    {
      "cell_type": "code",
      "metadata": {
        "colab": {
          "base_uri": "https://localhost:8080/"
        },
        "id": "O-3mEe2g3PDH",
        "outputId": "6fc6602f-8e3f-4be9-989a-f97b58aa47c8"
      },
      "source": [
        "# T1.4: Code\n",
        "counter = 0\n",
        "\n",
        "for i in range(n):\n",
        "  j=1\n",
        "  while j<n :\n",
        "    j=j*2\n",
        "    counter = counter + 1\n",
        "\n",
        "print(f\"The above loop was executed {counter} times\")\n",
        "print(f\"Log of {n} is {round(m.log(n, 2))} \\nAnd n(log (n)) is {n * round(m.log(n, 2)) }\")"
      ],
      "execution_count": null,
      "outputs": [
        {
          "output_type": "stream",
          "name": "stdout",
          "text": [
            "The above loop was executed 700 times\n",
            "Log of 100 is 7 \n",
            "And n(log (n)) is 700\n"
          ]
        }
      ]
    },
    {
      "cell_type": "markdown",
      "metadata": {
        "id": "Cw32YxIT3MqP"
      },
      "source": [
        "We can see that loop will run $n \\times \\log(n)$ times in worst case. So we can say that above algorithm is $\\mathcal{O}(n\\log(n))$.\n",
        "\n",
        "**Example 5:**\n",
        "\n",
        "The time for a constant activity, for example, accessing an element or printing a number will take some constant time.\n",
        "Hence, the time complexity of that activity is  $\\mathcal{O}(1)$.\n",
        "\n",
        "\n",
        "\n",
        "Now based on the learning above reading and answer the question given below.\n",
        "\n"
      ]
    },
    {
      "cell_type": "markdown",
      "metadata": {
        "id": "H-2lQ4AlAlvl"
      },
      "source": [
        "**Q:** What is the time complexity of Bubble sort, Selection sort, and Insertion sort respectively?\n",
        "\n",
        "**A:** $\\mathcal{O}(n^2)$\n",
        "\n",
        "\n",
        "But before that let's learn about an important programming concept in Recursion."
      ]
    },
    {
      "cell_type": "markdown",
      "metadata": {
        "id": "supHRbjXsqbv"
      },
      "source": [
        "---"
      ]
    },
    {
      "cell_type": "markdown",
      "metadata": {
        "id": "6WmstZUlwon3"
      },
      "source": [
        "#### Recursion\n",
        "\n",
        "Recursion means repetition. Observe the example below for the factorial of the numbers:\n",
        "\n",
        "$$1! = 1$$ \n",
        "\n",
        "$$2! = 2 * 1 = 2$$\n",
        "\n",
        "$$3! = 3 * 2 * 1 = 6$$\n",
        "\n",
        "$$4! = 4 * 3 * 2 * 1 = 24$$\n",
        "\n",
        "We can see that as we move ahead in the equation some part of the previous equation is repeated like **$4! = 4 * \\color{blue}{3 * 2 * 1}$**.\n",
        "\n",
        "\n",
        "We can write the above equations of factorial as:\n",
        "\n",
        "$$1! = 1$$ \n",
        "\n",
        "$$2! = 2 * \\color{blue}{1} = 2 * \\color{blue}{1!}$$\n",
        "\n",
        "$$3! = 3 * \\color{blue}{2 * 1} = 3 * \\color{blue}{2!}$$\n",
        "\n",
        "$$4! = 4 * \\color{blue}{3 * 2 * 1} = 4 * \\color{blue}{3!}$$\n",
        "\n",
        "We can see the factorial process is calling itself in every operation. It means that we have to for factorial of number `n` we require factorial for `n-1`. \n",
        "\n",
        "This process of function calling itself is known as **recursion**.\n",
        "\n",
        "Let's create a function for factorial in Python to understand recursion better:"
      ]
    },
    {
      "cell_type": "code",
      "metadata": {
        "colab": {
          "base_uri": "https://localhost:8080/"
        },
        "id": "60rlx_g9CNJ7",
        "outputId": "bbbf3cb2-bb80-4236-91b9-3eb7fb19c0d9"
      },
      "source": [
        "#T1.6: Code for factorial\n",
        "\n",
        "def factorial(n):\n",
        "  if n == 0 or n == 1:\n",
        "    return 1\n",
        "  \n",
        "  return n * factorial(n-1)\n",
        "\n",
        "\n",
        "factorial(5)\n"
      ],
      "execution_count": null,
      "outputs": [
        {
          "output_type": "execute_result",
          "data": {
            "text/plain": [
              "120"
            ]
          },
          "metadata": {},
          "execution_count": 18
        }
      ]
    },
    {
      "cell_type": "markdown",
      "metadata": {
        "id": "HHTBZiYDClOu"
      },
      "source": [
        "In the code above, we have created a function `factorial()` which takes the input number `n` and returns its factorial by calling the factorial function for the previous number `n-1` till it reaches `1` and `0`.\n",
        "\n",
        "The recursion function can be traced using a recursion tree like below:\n",
        "\n",
        "<center><img src = 'https://github.com/TANMAYGHODE/images/blob/master/Blue%20and%20Aqua%20Decision%20Tree%20Chart.png?raw=true' width = 800></center>\n",
        "\n",
        "\n"
      ]
    },
    {
      "cell_type": "markdown",
      "metadata": {
        "id": "mTy74xduekYc"
      },
      "source": [
        "**Note:** Condition on which recursion is stopped is called anchor condition. In above code it is `if n == 0 or n == 1`. "
      ]
    },
    {
      "cell_type": "markdown",
      "metadata": {
        "id": "BSD1rcb8sr8o"
      },
      "source": [
        "---"
      ]
    },
    {
      "cell_type": "markdown",
      "metadata": {
        "id": "crYMw_wU7gh1"
      },
      "source": [
        "\n",
        "#### Task 2: Merge Sort\n",
        "\n",
        "Merge sort is a divide and conquer algorithm. The divide and conquer algorithm is dividing the problem into small subproblems. We can solve subproblems by calling recursively until the subproblem is solved or conquered. These solved subproblems are then combined to get an original solved problem. In merge sort, we divide the array to be sorted into two halves and then sort them using merge sort. Later, merge the two sorted arrays into the original sorted array. \n",
        "\n",
        "The `merge()` is the key function that is to be investigated in merge sort. This function merges the two sorted arrays into one. It takes four parameters `arr`,`l`,`m`, and `r`.\n",
        "\n",
        "Following is the pseudo-code for merge function:\n",
        "\n",
        "- `arr` is the array to be merged.\n",
        "\n",
        "- `l` is an initial index of the array.\n",
        "\n",
        "- `r` is the last index of the array.\n",
        "\n",
        "- `m` is the point where we divide the array.\n",
        "\n",
        "```\n",
        "merge(Array arr[], l, m, r)\n",
        "1. begin:\n",
        "2. n1 = m - l + 1\n",
        "3. n2 = r - m\n",
        "4. Array L[n1],R[n2]  // Create temp arrays\n",
        "5. for i=0 to n1-1:   // Copy data to temp arrays L[] \n",
        "    L[i] = arr[l + i];\n",
        "6. for j=0 to n2-1:   // Copy data to temp arrays R[]\n",
        "    R[j] = arr[m + 1 + j]; \n",
        "\n",
        " // Merge the temp arrays back into arr[l..r]   \n",
        "\n",
        "7. i = 0;             // Initial index of first subarray\n",
        "   j = 0;             // Initial index of second subarray\n",
        "   k = l;             // Initial index of merged subarray\n",
        "8. while i < n1 && j < n2:\n",
        "    if L[i] <= R[j]:   // put smallest element into      \n",
        "      arr[k] = L[i];   // Array arr[] out of pointed out by\n",
        "            i++        // i or j \n",
        "    else:\n",
        "      arr[k] = R[j]\n",
        "            j++ \n",
        "    k++\n",
        "9. while i < n1:     // Copy the remaining elements of\n",
        "    arr[k] = L[i];   // L[], if there are any\n",
        "    i++;\n",
        "    k++;\n",
        "10.while (j < n2)   // Copy the remaining elements of\n",
        "    arr[k] = R[j];  // R[], if there are any\n",
        "    j++;\n",
        "    k++;\n",
        "11.end    \n",
        "```\n",
        "\n",
        "<center><img src = 'https://github.com/TANMAYGHODE/images/blob/master/Merge_function.png?raw=true' = 800></center>\n",
        "\n",
        "Following is the pseudo-code for the merge sort algorithm:\n",
        "\n",
        "```\n",
        "MergeSort(Array arr[], l, r):\n",
        "1. begin:\n",
        "2. if l>=r :\n",
        "    return\n",
        "        \n",
        "3. m = (l+r-1)/2;\n",
        "4. mergeSort(Array arr[],l,m);\n",
        "5. mergeSort(Array arr[],m+1,r);\n",
        "6. merge(Array arr[],l,m,r);\n",
        "end\n",
        "```\n",
        "<center><img src = 'https://github.com/TANMAYGHODE/images/blob/master/merge2.png?raw=true' = 800></center>\n"
      ]
    },
    {
      "cell_type": "markdown",
      "metadata": {
        "id": "vSMfhK3qazqt"
      },
      "source": [
        "**Q:** How many times will recursion take place in the above Array `array` ?\n",
        "\n",
        "**A:** 19."
      ]
    },
    {
      "cell_type": "markdown",
      "metadata": {
        "id": "GshQlOuHb6OO"
      },
      "source": [
        "Now we will create a function to perform merge sort with help of the below steps:\n",
        "\n",
        "1. Divide the array into two parts `Left_array` and `Right_array`. Aim to sort these respective arrays and then merge them into a single array.\n",
        "\n",
        "2. Add 3 pointers `i`, `j` and `k` to the `Left_array`, `Right_array`, and `array` variables.\n",
        "\n",
        "3. Merge all the remaining elements again from the sorted list in the `array` variable. \n",
        "\n",
        "4. Either of the `Left_array` or `Right_array` will be empty first as is the termination condition for `while` loop.\n",
        "\n",
        "5. Anchor condition where we will stop with the recursion. \n",
        "\n",
        "6. Refer to the figure above for proper visualization of sorting. Numbers in red signifies the number of times recursion will take place in its respective order."
      ]
    },
    {
      "cell_type": "code",
      "metadata": {
        "id": "frfTpMa8fiax"
      },
      "source": [
        "# T2.1: Merge Sort\n",
        "def mergeSort(array):\n",
        "  \n",
        "  if  len(array)> 1:\n",
        "    middle=len(array)//2 # floor division\n",
        "\n",
        "    # Divide arrays into two parts\n",
        "    Left_array=array[:middle]\n",
        "    Right_array=array[middle:]\n",
        "    print(\"Left array:\",Left_array)\n",
        "    print(\"Right arrat:\",Right_array)\n",
        "\n",
        "    # Sort left and right arrays\n",
        "    mergeSort(Left_array)\n",
        "    mergeSort(Right_array)\n",
        "\n",
        "    #Merge both the arrays\n",
        "    # Can also be implemented with merge method \n",
        "    i=0\n",
        "    j=0\n",
        "    k=0\n",
        "    \n",
        "    # Merge two arrays till one of the arrays gets empty\n",
        "\n",
        "    while i<len(Left_array) and j<len(Right_array):\n",
        "      if Left_array[i]<Right_array[j]:\n",
        "        array[k]=Left_array[i]\n",
        "        i=i+1\n",
        "      else :\n",
        "        array[k]=Right_array[j]  \n",
        "        j=j+1\n",
        "      k=k+1 \n",
        "       \n",
        "   # Merge remaining elements of Left_array    \n",
        "       \n",
        "    while i < len(Left_array):\n",
        "        array[k] = Left_array[i]\n",
        "        i =i + 1\n",
        "        k =k + 1\n",
        " \n",
        "   # Merge remaining elements of Right_array\n",
        "    while j < len(Right_array):\n",
        "        array[k] = Right_array[j]\n",
        "        j =j + 1\n",
        "        k =k + 1      \n",
        " "
      ],
      "execution_count": null,
      "outputs": []
    },
    {
      "cell_type": "markdown",
      "metadata": {
        "id": "r3DTurL6YQAW"
      },
      "source": [
        "Now let's try to sort an array using the merge sort technique that we have created."
      ]
    },
    {
      "cell_type": "code",
      "metadata": {
        "id": "44Rj3qM1e63L",
        "colab": {
          "base_uri": "https://localhost:8080/"
        },
        "outputId": "f7d13803-84ac-4922-e531-0690dc5228de"
      },
      "source": [
        "#S2.1: Sort the array using mergeSort()\n",
        "array = [5, 3, 4, 2, 1]\n",
        "mergeSort(array)\n",
        "print(\"Sorted array is: \")\n",
        "print(array)\n",
        " "
      ],
      "execution_count": null,
      "outputs": [
        {
          "output_type": "stream",
          "name": "stdout",
          "text": [
            "Left array: [5, 3]\n",
            "Right arrat: [4, 2, 1]\n",
            "Left array: [5]\n",
            "Right arrat: [3]\n",
            "Left array: [4]\n",
            "Right arrat: [2, 1]\n",
            "Left array: [2]\n",
            "Right arrat: [1]\n",
            "Sorted array is: \n",
            "[1, 2, 3, 4, 5]\n"
          ]
        }
      ]
    },
    {
      "cell_type": "markdown",
      "metadata": {
        "id": "IQpbeSyHd2mR"
      },
      "source": [
        "As you can see we have successfully sorted the array using the merge sort technique."
      ]
    },
    {
      "cell_type": "markdown",
      "metadata": {
        "id": "V04__Ic5nDWm"
      },
      "source": [
        "---"
      ]
    },
    {
      "cell_type": "markdown",
      "metadata": {
        "id": "0y4pgPBDm_1d"
      },
      "source": [
        "\n",
        "#### Task 3: Quick Sort\n",
        "\n",
        "The Quick sort is a divide and conquers algorithm like merge sort. In Quick sort, we pick an element as a pivot and partition the given array around the picked pivot. There are many different versions of the quicksort that pick pivot in different ways.\n",
        "\n",
        "- Always pick the first element as a pivot.\n",
        "\n",
        "- Always pick the last element as a pivot.\n",
        "\n",
        "- Pick a random element as a pivot.\n",
        "\n",
        "- Pick median as a pivot.\n",
        "\n",
        "The `partition()` is the key function that is to be investigated in quick sort. This function, given an array and an element x of an array as a pivot, put x at its correct position in a sorted array and put all smaller elements (smaller than x) before x, and put all greater elements (greater than x) after x. All this should be done in linear time.\n",
        "\n",
        "Following is the pseudo-code for `partition()` function:\n",
        "\n",
        "- `arr` is the array to be merged.\n",
        "\n",
        "- `l` an is the initial index of the array.\n",
        "\n",
        "- `r` is the last index of the array.\n",
        "\n",
        "```\n",
        "partition(Array arr[], l, r)\n",
        "1. begin:\n",
        "2. pivot = arr[r]; //Element to be put at the right place\n",
        "2. i = l - 1          //index of the smaller element\n",
        "3. for j = l to h- 1:\n",
        "    if arr[j] < pivot:// If current element is smaller than the pivot\n",
        "      i++             // increment index of smaller element\n",
        "      swap arr[i] and arr[j]\n",
        "4. swap arr[i + 1] and arr[r])\n",
        "5. return (i + 1)  \n",
        "6. end    \n",
        "\n",
        "```\n",
        "\n",
        "\n",
        "Following is the pseudo-code for the Quick sort Algorithm:\n",
        "\n",
        "```\n",
        "QuickSort(arr[], l, r)\n",
        "1. begin\n",
        "2. if l < r:\n",
        "3. pi = partition(arr, l, r) // pi is partitioning index, arr[pi] is now\n",
        "           at right place\n",
        "4. quickSort(arr, l, pi - 1);  // Before pi\n",
        "5. quickSort(arr, pi + 1, r); // After pi\n",
        "```\n",
        "<center><img src = 'https://github.com/TANMAYGHODE/images/blob/master/Quick_sort2.png?raw=true' = 800></center>\n"
      ]
    },
    {
      "cell_type": "markdown",
      "metadata": {
        "id": "p0G06loNd-GQ"
      },
      "source": [
        "Now let's perform quick sort with help of the below steps:\n",
        "\n",
        "1. Define the `partition` function which takes 3 inputs as follows: \n",
        "\n",
        "  - `array` - The array to be sorted\n",
        "\n",
        "  - `left` - First index of the array\n",
        "\n",
        "  - `right` - Last index of the array\n",
        "\n",
        "2. Select the last element as a pivot element.\n",
        "\n",
        "3. Place all the elements smaller than the pivot to the left and larger than the pivot to the right side using a `for` loop. \n",
        "\n",
        "3. Store the first element as a pointer in a variable `i`. Iterate the pointer till the element that is larger than the pivot. \n",
        "\n",
        "4. Swap `i` with the smaller element pointed by pointer `j` which iterates over all the positions. \n",
        "\n",
        "4. Keep the pivot at its right position.\n",
        "\n",
        "5. Return the index of the pivot element.  "
      ]
    },
    {
      "cell_type": "code",
      "metadata": {
        "id": "ppztm_pDlkid"
      },
      "source": [
        "# T3.1: Partition Function\n",
        "\n",
        "def partition(array,left,right):\n",
        "  i=left-1 # Select first element and point i to it.\n",
        "  pivot= array[right] #Select last element as pivot\n",
        "  print()\n",
        "  print(\"Whole array:\",array)\n",
        "  print(\"Partioned array:\",array[left:right+1])\n",
        "  print(\"Pivot\",pivot)\n",
        "  \n",
        "# Iterate over all the positions\n",
        "  for j in range(left,right):\n",
        "    print()\n",
        "    print(\"Iteration j=\",j)\n",
        "    print(\"starting i:\",i)\n",
        "    # If j points at the element smaller than the pivot\n",
        "    if array[j]<pivot:\n",
        "      # increment the i and  \n",
        "      i=i+1\n",
        "      array[i],array[j]=array[j],array[i]\n",
        "      print(\"new i:\",i)\n",
        "      print(array[i],\"swapped with\",array[j])\n",
        "    \n",
        "\n",
        "# put pivot element at its right position\n",
        "  array[i+1],array[right]=array[right],array[i+1]\n",
        "  print(\"Partition index found at\",i+1,\"so\",array[i+1],\"swapped with\",array[right])\n",
        "# return position of the element  \n",
        "  return i+1  "
      ],
      "execution_count": null,
      "outputs": []
    },
    {
      "cell_type": "markdown",
      "metadata": {
        "id": "omprruQ3a-vi"
      },
      "source": [
        "Now, let's go ahead and create the main `quickSort` function with help of the below steps: \n",
        "\n",
        "1. Create a function `quickSort` that takes three inputs as follows: \n",
        "\n",
        "  - `array` - The array to be sorted\n",
        "\n",
        "  - `left` - first index of the array\n",
        "\n",
        "  - `right` - last index of the array\n",
        "\n",
        "2. Define the condition for recursion to break by checking whether `left < right`.\n",
        "\n",
        "3. Call the `partition` function to put the pivot element selected at its right position. \n",
        "\n",
        "**Note**: Select the first element as a pivot and the partition function will always put the first element at its right location in our implementation. \n",
        " "
      ]
    },
    {
      "cell_type": "code",
      "metadata": {
        "id": "LZE88Ys4D5eh"
      },
      "source": [
        " #T3.2:  Function to do Quick sort \n",
        "\n",
        "def quickSort(arr,left,right): \n",
        "  if left<right: #Condition to break for recurssion\n",
        "    pivot_location=partition(array,left,right) # Pivot location\n",
        "    quickSort(array,left,pivot_location-1) # Apply quick sort on left array\n",
        "    quickSort(array,pivot_location+1,right) # Apply quick sort on right array\n",
        "\n"
      ],
      "execution_count": null,
      "outputs": []
    },
    {
      "cell_type": "markdown",
      "metadata": {
        "id": "nf5Od94dcT7v"
      },
      "source": [
        "Now let's try to sort an array using the quick sort technique that we have created."
      ]
    },
    {
      "cell_type": "code",
      "metadata": {
        "colab": {
          "base_uri": "https://localhost:8080/"
        },
        "id": "jb0ytgcOnPBN",
        "outputId": "e317be8c-0d40-4f39-d095-95cd3ae4d09f"
      },
      "source": [
        "#S3.1: Implement quicksort on this array\n",
        "\n",
        "array = [5, 3, 4, 2, 1] \n",
        "quickSort(array,0,len(array)-1) \n",
        "print (\"Sorted array is:\") \n",
        "print(array)"
      ],
      "execution_count": null,
      "outputs": [
        {
          "output_type": "stream",
          "name": "stdout",
          "text": [
            "\n",
            "Whole array: [5, 3, 4, 2, 1]\n",
            "Partioned array: [5, 3, 4, 2, 1]\n",
            "Pivot 1\n",
            "\n",
            "Iteration j= 0\n",
            "starting i: -1\n",
            "\n",
            "Iteration j= 1\n",
            "starting i: -1\n",
            "\n",
            "Iteration j= 2\n",
            "starting i: -1\n",
            "\n",
            "Iteration j= 3\n",
            "starting i: -1\n",
            "Partition index found at 0 so 1 swapped with 5\n",
            "\n",
            "Whole array: [1, 3, 4, 2, 5]\n",
            "Partioned array: [3, 4, 2, 5]\n",
            "Pivot 5\n",
            "\n",
            "Iteration j= 1\n",
            "starting i: 0\n",
            "new i: 1\n",
            "3 swapped with 3\n",
            "\n",
            "Iteration j= 2\n",
            "starting i: 1\n",
            "new i: 2\n",
            "4 swapped with 4\n",
            "\n",
            "Iteration j= 3\n",
            "starting i: 2\n",
            "new i: 3\n",
            "2 swapped with 2\n",
            "Partition index found at 4 so 5 swapped with 5\n",
            "\n",
            "Whole array: [1, 3, 4, 2, 5]\n",
            "Partioned array: [3, 4, 2]\n",
            "Pivot 2\n",
            "\n",
            "Iteration j= 1\n",
            "starting i: 0\n",
            "\n",
            "Iteration j= 2\n",
            "starting i: 0\n",
            "Partition index found at 1 so 2 swapped with 3\n",
            "\n",
            "Whole array: [1, 2, 4, 3, 5]\n",
            "Partioned array: [4, 3]\n",
            "Pivot 3\n",
            "\n",
            "Iteration j= 2\n",
            "starting i: 1\n",
            "Partition index found at 2 so 3 swapped with 4\n",
            "Sorted array is:\n",
            "[1, 2, 3, 4, 5]\n"
          ]
        }
      ]
    },
    {
      "cell_type": "markdown",
      "metadata": {
        "id": "VxIy0DySd9Aq"
      },
      "source": [
        "**Q:** Will our implementation work if the random element is selected as a pivot?\n",
        "\n",
        "**A:** Yes."
      ]
    },
    {
      "cell_type": "markdown",
      "metadata": {
        "id": "ms-yrJadeVys"
      },
      "source": [
        "**Q:** Which sorting algorithm is implemented in the Python sort function?\n",
        "\n",
        "**A:** Quick Sort."
      ]
    },
    {
      "cell_type": "markdown",
      "metadata": {
        "id": "_yy8mjL9yRSd"
      },
      "source": [
        "Hence, we have learned all the sorting algorithms that are crucial in Data Structures. In the next class, we will learn a new class of algorithms called as Search Algorithms."
      ]
    },
    {
      "cell_type": "markdown",
      "metadata": {
        "id": "SSlHLdoOjKa0"
      },
      "source": [
        "---"
      ]
    }
  ]
}